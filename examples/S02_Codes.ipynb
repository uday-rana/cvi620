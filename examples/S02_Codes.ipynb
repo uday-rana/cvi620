{
 "cells": [
  {
   "cell_type": "markdown",
   "metadata": {},
   "source": [
    "# Session 2 Codes"
   ]
  },
  {
   "cell_type": "code",
   "execution_count": null,
   "metadata": {},
   "outputs": [],
   "source": [
    "# dependencies\n",
    "import cv2\n",
    "import numpy as np\n",
    "\n",
    "# reading image\n",
    "image = cv2.imread(\"Lucy.jpg\")\n",
    "print(f\"image array is: {image}\")\n",
    "\n",
    "# showing image\n",
    "cv2.imshow(\"cat\", image)\n",
    "cv2.waitKey(0)\n",
    "cv2.destroyAllWindows()\n",
    "\n",
    "# saving image\n",
    "cv2.imwrite(\"lucy_green.jpg\", image)\n",
    "\n",
    "# shape of the image\n",
    "print(f\"image shape is: {image.shape}\")\n",
    "\n",
    "# channels\n",
    "green_channel = image[:, :, 1]\n",
    "\n",
    "# slicing\n",
    "image[10:500, 100:600, :] = 0"
   ]
  }
 ],
 "metadata": {
  "kernelspec": {
   "display_name": "Python venv_02",
   "language": "python",
   "name": "venv_02"
  },
  "language_info": {
   "codemirror_mode": {
    "name": "ipython",
    "version": 3
   },
   "file_extension": ".py",
   "mimetype": "text/x-python",
   "name": "python",
   "nbconvert_exporter": "python",
   "pygments_lexer": "ipython3",
   "version": "3.9.11"
  }
 },
 "nbformat": 4,
 "nbformat_minor": 2
}
