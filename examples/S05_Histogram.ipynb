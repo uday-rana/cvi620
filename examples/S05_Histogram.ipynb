{
 "cells": [
  {
   "cell_type": "code",
   "execution_count": null,
   "id": "0",
   "metadata": {},
   "outputs": [],
   "source": [
    "import cv2\n",
    "import numpy as np\n",
    "import matplotlib.pyplot as plt"
   ]
  },
  {
   "cell_type": "code",
   "execution_count": null,
   "id": "1",
   "metadata": {},
   "outputs": [],
   "source": [
    "img_path = r\"Lucy.jpg\"\n",
    " \n",
    "image = cv2.imread(img_path)\n",
    " \n",
    "cv2.imshow(\"Rectangle on Image\", image)\n",
    "cv2.waitKey(0)\n",
    "cv2.destroyAllWindows()"
   ]
  },
  {
   "cell_type": "code",
   "execution_count": null,
   "id": "2",
   "metadata": {},
   "outputs": [],
   "source": [
    "image.ravel()"
   ]
  },
  {
   "cell_type": "code",
   "execution_count": null,
   "id": "3",
   "metadata": {},
   "outputs": [],
   "source": [
    "image.ravel().shape"
   ]
  },
  {
   "cell_type": "code",
   "execution_count": null,
   "id": "4",
   "metadata": {},
   "outputs": [],
   "source": [
    "image.ravel().size"
   ]
  },
  {
   "cell_type": "code",
   "execution_count": null,
   "id": "5",
   "metadata": {},
   "outputs": [],
   "source": [
    "plt.hist(image.ravel(), bins=256, range = [0,255])\n",
    "plt.show()"
   ]
  },
  {
   "cell_type": "code",
   "execution_count": null,
   "id": "6",
   "metadata": {},
   "outputs": [],
   "source": [
    "colors = ('b', 'g', 'r')\n",
    " \n",
    "img_ravel = [image[:, :, 0].ravel(), image[:, :, 1].ravel(), image[:,:, 2].ravel()] \n",
    "plt.hist(img_ravel, color= colors, label= colors)\n",
    "plt.legend()\n",
    "plt.show()"
   ]
  },
  {
   "cell_type": "code",
   "execution_count": null,
   "id": "7",
   "metadata": {},
   "outputs": [],
   "source": [
    "colors = ('b', 'g', 'r')\n",
    " \n",
    "img_ravel = [image[:, :, 0].ravel(), image[:, :, 1].ravel(), image[:,:, 2].ravel()] \n",
    "plt.hist(img_ravel, color= colors, label= colors, bins= 256, range= [0,256])\n",
    "plt.legend()\n",
    "plt.show()"
   ]
  },
  {
   "cell_type": "code",
   "execution_count": null,
   "id": "8",
   "metadata": {},
   "outputs": [],
   "source": [
    "# Plot of all Channel using cv2.calcHist() Function\n",
    "\n",
    "colors = ('b', 'g', 'r')      \n",
    "plt.figure(figsize=(16, 9))\n",
    "\n",
    "for i, color in enumerate(colors):\n",
    "    histogram = cv2.calcHist([image], [i], None, [256], [0, 256])\n",
    "    plt.plot(histogram, color= color)\n",
    "plt.show()"
   ]
  },
  {
   "cell_type": "code",
   "execution_count": null,
   "id": "9",
   "metadata": {},
   "outputs": [],
   "source": [
    "l1 = [\"eat\", \"sleep\", \"repeat\"]\n",
    "\n",
    "for s in enumerate(l1):\n",
    "    print (s)"
   ]
  },
  {
   "cell_type": "code",
   "execution_count": null,
   "id": "10",
   "metadata": {},
   "outputs": [],
   "source": [
    "# getting desired output from tuple\n",
    "for count, element in enumerate(l1):\n",
    "    print(count)\n",
    "    print(element)"
   ]
  },
  {
   "cell_type": "code",
   "execution_count": null,
   "id": "11",
   "metadata": {},
   "outputs": [],
   "source": [
    "img_path = r\"quiz_image.jpg\"\n",
    " \n",
    "image = cv2.imread(img_path)\n",
    "image = cv2.resize(image, (1280, 720))"
   ]
  },
  {
   "cell_type": "code",
   "execution_count": null,
   "id": "12",
   "metadata": {},
   "outputs": [],
   "source": [
    "colors = ('b', 'g', 'r')\n",
    " \n",
    "colors = ('b', 'g', 'r')      \n",
    "plt.figure(figsize=(16, 9))\n",
    "for i, color in enumerate(colors):\n",
    "    histogram = cv2.calcHist([image], [i], None, [256], [0, 256])\n",
    "    plt.plot(histogram, color=color)\n",
    "plt.show()"
   ]
  },
  {
   "cell_type": "code",
   "execution_count": null,
   "id": "13",
   "metadata": {},
   "outputs": [],
   "source": []
  }
 ],
 "metadata": {
  "kernelspec": {
   "display_name": "Python venv_02",
   "language": "python",
   "name": "venv_02"
  },
  "language_info": {
   "codemirror_mode": {
    "name": "ipython",
    "version": 3
   },
   "file_extension": ".py",
   "mimetype": "text/x-python",
   "name": "python",
   "nbconvert_exporter": "python",
   "pygments_lexer": "ipython3",
   "version": "3.9.11"
  }
 },
 "nbformat": 4,
 "nbformat_minor": 5
}
