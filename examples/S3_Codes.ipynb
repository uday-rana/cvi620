{
 "cells": [
  {
   "cell_type": "markdown",
   "metadata": {},
   "source": [
    "# Dependencies"
   ]
  },
  {
   "cell_type": "code",
   "execution_count": null,
   "metadata": {},
   "outputs": [],
   "source": [
    "import cv2\n",
    "import numpy as np"
   ]
  },
  {
   "cell_type": "markdown",
   "metadata": {},
   "source": [
    "# Reading Image"
   ]
  },
  {
   "cell_type": "code",
   "execution_count": null,
   "metadata": {},
   "outputs": [],
   "source": [
    "image = cv2.imread(\"Lucy.jpg\")\n",
    "\n",
    "if image is None:\n",
    "    print(\"ERROR\")\n",
    "    \n",
    "print(f\"image shape: {image.shape}\")\n"
   ]
  },
  {
   "cell_type": "markdown",
   "metadata": {},
   "source": [
    "# Min/Max\n",
    "\n",
    "find min or max pixel value in the image or in a specific channel"
   ]
  },
  {
   "cell_type": "code",
   "execution_count": null,
   "metadata": {},
   "outputs": [],
   "source": [
    "img_red = image[:, :, 2]\n",
    "\n",
    "# max = 0\n",
    "\n",
    "# for i in range(img_red.shape[0]):\n",
    "#     for j in range(img_red.shape[1]):\n",
    "#         if img_red[i][j] > max:\n",
    "#             max = img_red[i][j]\n",
    "\n",
    "\n",
    "min = image[:, :, 2].min()\n",
    "print(min)"
   ]
  },
  {
   "cell_type": "markdown",
   "metadata": {},
   "source": [
    "# ROI\n",
    "\n",
    "You can use this method to copy and paste regions"
   ]
  },
  {
   "cell_type": "code",
   "execution_count": null,
   "metadata": {},
   "outputs": [],
   "source": [
    "roi = image[100:400, 150:900]\n",
    "cv2.imshow(\"region of interest\", roi)\n",
    "cv2.waitKey(0)"
   ]
  },
  {
   "cell_type": "markdown",
   "metadata": {},
   "source": [
    "# Split and Merge\n",
    "\n",
    "OpenCV follow BGR color model"
   ]
  },
  {
   "cell_type": "code",
   "execution_count": null,
   "metadata": {},
   "outputs": [],
   "source": [
    "b, g, r = cv2.split(image)\n",
    "image_RGB = cv2.merge((r,g,b))"
   ]
  },
  {
   "cell_type": "markdown",
   "metadata": {},
   "source": [
    "# Padding"
   ]
  },
  {
   "cell_type": "code",
   "execution_count": null,
   "metadata": {},
   "outputs": [],
   "source": [
    "constant_image = cv2.copyMakeBorder(image, 50, 50, 50, 50, cv2.BORDER_CONSTANT, value=[100, 100, 150])\n",
    "cv2.imshow(\"padded image\", constant_image)\n",
    "cv2.waitKey(0)"
   ]
  },
  {
   "cell_type": "code",
   "execution_count": null,
   "metadata": {},
   "outputs": [],
   "source": [
    "import matplotlib.pyplot as plt\n",
    "\n",
    "BLUE = [255,0,0]\n",
    "bsz = 50\n",
    "img1 = cv2.imread('Lucy.jpg')\n",
    "replicate = cv2.copyMakeBorder(img1, bsz, bsz, bsz, bsz, cv2.BORDER_REPLICATE)\n",
    "reflect = cv2.copyMakeBorder(img1, bsz, bsz, bsz, bsz, cv2.BORDER_REFLECT)\n",
    "reflect101 = cv2.copyMakeBorder(img1, bsz, bsz, bsz, bsz, cv2.BORDER_REFLECT_101)\n",
    "wrap = cv2.copyMakeBorder(img1, bsz, bsz, bsz, bsz, cv2.BORDER_WRAP)\n",
    "constant= cv2.copyMakeBorder(img1, bsz, bsz, bsz, bsz, cv2.BORDER_CONSTANT,value=BLUE)\n",
    "plt.subplot(231), plt.imshow(cv2.cvtColor(img1, cv2.COLOR_BGR2RGB)), plt.title('ORIGINAL')\n",
    "plt.subplot(232), plt.imshow(cv2.cvtColor(replicate, cv2.COLOR_BGR2RGB)), plt.title('REPLICATE')\n",
    "plt.subplot(233), plt.imshow(cv2.cvtColor(reflect, cv2.COLOR_BGR2RGB)), plt.title('REFLECT')\n",
    "plt.subplot(234), plt.imshow(cv2.cvtColor(reflect101, cv2.COLOR_BGR2RGB)), plt.title('REFLECT_101')\n",
    "plt.subplot(235), plt.imshow(cv2.cvtColor(wrap, cv2.COLOR_BGR2RGB)), plt.title('WRAP')\n",
    "plt.subplot(236), plt.imshow(cv2.cvtColor(constant, cv2.COLOR_BGR2RGB)), plt.title('CONSTANT')\n",
    "plt.show()"
   ]
  }
 ],
 "metadata": {
  "kernelspec": {
   "display_name": "Python venv_02",
   "language": "python",
   "name": "venv_02"
  },
  "language_info": {
   "codemirror_mode": {
    "name": "ipython",
    "version": 3
   },
   "file_extension": ".py",
   "mimetype": "text/x-python",
   "name": "python",
   "nbconvert_exporter": "python",
   "pygments_lexer": "ipython3",
   "version": "3.9.11"
  }
 },
 "nbformat": 4,
 "nbformat_minor": 2
}
