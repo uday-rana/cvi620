{
 "cells": [
  {
   "cell_type": "code",
   "execution_count": null,
   "id": "0",
   "metadata": {},
   "outputs": [],
   "source": [
    "import cv2\n",
    "import numpy as np"
   ]
  },
  {
   "cell_type": "code",
   "execution_count": null,
   "id": "1",
   "metadata": {},
   "outputs": [],
   "source": [
    "img_path = \"Dog and Cat.jpg\""
   ]
  },
  {
   "cell_type": "markdown",
   "id": "2",
   "metadata": {},
   "source": [
    "## Make darker"
   ]
  },
  {
   "cell_type": "code",
   "execution_count": null,
   "id": "3",
   "metadata": {
    "tags": []
   },
   "outputs": [],
   "source": [
    "image = cv2.imread(img_path)\n",
    "img2 = cv2.add(image, np.uint8(np.ones(image.shape)) * 50)\n",
    "image = cv2.resize(img2, (1280, 720))\n",
    "\n",
    "cv2.imshow(\"Rectangle on Image\", image)\n",
    "cv2.waitKey(0)\n",
    "cv2.destroyAllWindows()"
   ]
  },
  {
   "cell_type": "markdown",
   "id": "4",
   "metadata": {},
   "source": [
    "## Make Brighter"
   ]
  },
  {
   "cell_type": "code",
   "execution_count": null,
   "id": "5",
   "metadata": {},
   "outputs": [],
   "source": [
    "image = cv2.imread(img_path)\n",
    "img2 = cv2.add(image, np.uint8(np.ones(image.shape)) * 200)\n",
    "image = cv2.resize(img2, (1280, 720))\n",
    "\n",
    "cv2.imshow(\"Rectangle on Image\", image)\n",
    "cv2.waitKey(0)\n",
    "cv2.destroyAllWindows()"
   ]
  },
  {
   "cell_type": "markdown",
   "id": "6",
   "metadata": {},
   "source": [
    "## Multiply & Divide (scalar)"
   ]
  },
  {
   "cell_type": "code",
   "execution_count": null,
   "id": "7",
   "metadata": {},
   "outputs": [],
   "source": [
    "# Make brighter\n",
    "image = cv2.imread(img_path)\n",
    "img2 = cv2.multiply(image, np.uint8(np.ones(image.shape)), scale= 0.5)\n",
    "image = cv2.resize(img2, (1280, 720))\n",
    "\n",
    "cv2.imshow(\"Rectangle on Image\", image)\n",
    "cv2.waitKey(0)\n",
    "cv2.destroyAllWindows()"
   ]
  },
  {
   "cell_type": "code",
   "execution_count": null,
   "id": "8",
   "metadata": {},
   "outputs": [],
   "source": [
    "# Make brighter\n",
    "image = cv2.imread(img_path)\n",
    "img2 = cv2.multiply(image, np.uint8(np.ones(image.shape)), scale = 1.5)\n",
    "image = cv2.resize(img2, (1280, 720))\n",
    "\n",
    "cv2.imshow(\"Rectangle on Image\", image)\n",
    "cv2.waitKey(0)\n",
    "cv2.destroyAllWindows()"
   ]
  },
  {
   "cell_type": "markdown",
   "id": "9",
   "metadata": {},
   "source": [
    "## Draw Rectangle on Image of dog"
   ]
  },
  {
   "cell_type": "code",
   "execution_count": null,
   "id": "10",
   "metadata": {},
   "outputs": [],
   "source": [
    "image = cv2.imread(img_path)\n",
    "image = cv2.resize(image, (1280, 720))\n",
    " \n",
    "pt1 = (100, 150)\n",
    "pt2 = (410, 400)\n",
    "color = (0, 0, 255)\n",
    "thickness = 4\n",
    "lineType = cv2.LINE_4\n",
    " \n",
    "# rectangle(img, pt1, pt2, color, thickness, lineType, shift)\n",
    "img_rect = cv2.rectangle(image, pt1, pt2, color, thickness, lineType)\n",
    " \n",
    "cv2.imshow(\"Rectangle on Image\", img_rect)\n",
    "cv2.waitKey(0)\n",
    "cv2.destroyAllWindows()"
   ]
  },
  {
   "cell_type": "markdown",
   "id": "11",
   "metadata": {},
   "source": [
    "## Fill Rectangle on Image"
   ]
  },
  {
   "cell_type": "code",
   "execution_count": null,
   "id": "12",
   "metadata": {},
   "outputs": [],
   "source": [
    "image = cv2.imread(img_path)\n",
    "image = cv2.resize(image, (1280, 720))\n",
    " \n",
    "pt1 = (100, 150)\n",
    "pt2 = (410, 400)\n",
    "color = (255, 0, 0)\n",
    "thickness = -1\n",
    "lineType = cv2.LINE_4\n",
    " \n",
    "# rectangle(img, pt1, pt2, color[, thickness[, lineType[, shift]]])\n",
    "img_rect = cv2.rectangle(image, pt1, pt2, color, thickness, lineType)\n",
    " \n",
    "cv2.imshow(\"Rectangle on Image\", img_rect)\n",
    " \n",
    "cv2.waitKey(0)\n",
    "cv2.destroyAllWindows()"
   ]
  },
  {
   "cell_type": "markdown",
   "id": "13",
   "metadata": {},
   "source": [
    "## Text On Rectangle on Image"
   ]
  },
  {
   "cell_type": "code",
   "execution_count": null,
   "id": "14",
   "metadata": {},
   "outputs": [],
   "source": [
    "image = cv2.imread(img_path)\n",
    "image = cv2.resize(image, (1280, 720))\n",
    " \n",
    "pt1 = (100, 150)\n",
    "pt2 = (410, 400)\n",
    "color = (255, 0, 0)\n",
    "thickness = -1\n",
    "lineType = cv2.LINE_4\n",
    " \n",
    "#rectangle(img, pt1, pt2, color[, thickness[, lineType[, shift]]])\n",
    "img_rect = cv2.rectangle(image, pt1, pt2, color, thickness, lineType)\n",
    " \n",
    "#text on image\n",
    "text = \"Face - 100%\"\n",
    "org = (150, 300)\n",
    "fontFace = cv2.FONT_HERSHEY_SIMPLEX\n",
    "fontScale = 1\n",
    "color = (0,0,25)\n",
    "lineType = cv2.LINE_4\n",
    " \n",
    "#text, org, fontFace, fontScale, color[, thickness\n",
    " \n",
    "img_text = cv2.putText(img_rect, text, org, fontFace, fontScale, color, lineType)\n",
    " \n",
    " \n",
    "cv2.imshow(\"Rectangle on Image\", img_text)\n",
    " \n",
    "cv2.waitKey(0)\n",
    "cv2.destroyAllWindows()"
   ]
  },
  {
   "cell_type": "markdown",
   "id": "15",
   "metadata": {},
   "source": [
    "## Text Above Rectangle on Image"
   ]
  },
  {
   "cell_type": "code",
   "execution_count": null,
   "id": "16",
   "metadata": {},
   "outputs": [],
   "source": [
    "image = cv2.imread(img_path)\n",
    "image = cv2.resize(image, (1280, 720))\n",
    " \n",
    "pt1 = (100, 150)\n",
    "pt2 = (410, 400)\n",
    "color = (255, 0, 0)\n",
    "thickness = 4\n",
    "lineType = cv2.LINE_4\n",
    " \n",
    "#rectangle(img, pt1, pt2, color[, thickness[, lineType[, shift]]])\n",
    "img_rect = cv2.rectangle(image, pt1, pt2, color, thickness, lineType)\n",
    " \n",
    "#text on image\n",
    "text = \"Face - 100%\"\n",
    "org = (150, 140)\n",
    "fontFace = cv2.FONT_HERSHEY_SIMPLEX\n",
    "fontScale = 1\n",
    "color = (0,255,25)\n",
    "lineType = cv2.LINE_4\n",
    " \n",
    "#text, org, fontFace, fontScale, color[, thickness\n",
    " \n",
    "img_text = cv2.putText(img_rect, text, org, fontFace, fontScale, color, lineType)\n",
    " \n",
    " \n",
    "cv2.imshow(\"Rectangle on Image\", img_text)\n",
    " \n",
    "cv2.waitKey(0)\n",
    "cv2.destroyAllWindows()"
   ]
  },
  {
   "cell_type": "markdown",
   "id": "17",
   "metadata": {},
   "source": [
    "## Save image"
   ]
  },
  {
   "cell_type": "code",
   "execution_count": null,
   "id": "18",
   "metadata": {},
   "outputs": [],
   "source": [
    "image = cv2.imread(img_path)\n",
    "image = cv2.resize(image, (1280, 720))\n",
    " \n",
    "pt1 = (100, 150)\n",
    "pt2 = (410, 400)\n",
    "color = (255, 0, 0)\n",
    "thickness = 4\n",
    "lineType = cv2.LINE_4\n",
    " \n",
    "#rectangle(img, pt1, pt2, color[, thickness[, lineType[, shift]]])\n",
    "img_rect = cv2.rectangle(image, pt1, pt2, color, thickness, lineType)\n",
    " \n",
    "#text on image\n",
    "text = \"Face - 100%\"\n",
    "org = (150, 140)\n",
    "fontFace = cv2.FONT_HERSHEY_SIMPLEX\n",
    "fontScale = 1\n",
    "color = (0,255,25)\n",
    "lineType = cv2.LINE_4\n",
    " \n",
    "#text, org, fontFace, fontScale, color[, thickness\n",
    " \n",
    "img_text = cv2.putText(img_rect, text, org, fontFace, fontScale, color, lineType)\n",
    " \n",
    " \n",
    "cv2.imwrite(\"image_with_rect_text.png\", img_text)\n",
    " \n",
    "cv2.imshow(\"Rectangle on Image\", img_text)\n",
    " \n",
    "cv2.waitKey(0)\n",
    "cv2.destroyAllWindows()"
   ]
  }
 ],
 "metadata": {
  "kernelspec": {
   "display_name": "Python venv_02",
   "language": "python",
   "name": "venv_02"
  },
  "language_info": {
   "codemirror_mode": {
    "name": "ipython",
    "version": 3
   },
   "file_extension": ".py",
   "mimetype": "text/x-python",
   "name": "python",
   "nbconvert_exporter": "python",
   "pygments_lexer": "ipython3",
   "version": "3.9.11"
  }
 },
 "nbformat": 4,
 "nbformat_minor": 5
}
