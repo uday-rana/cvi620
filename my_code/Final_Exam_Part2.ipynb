{
 "cells": [
  {
   "cell_type": "markdown",
   "id": "0",
   "metadata": {},
   "source": [
    "# SENECA\n",
    "\n",
    "Term:\t        Winter25<br>\n",
    "Professor:\t    Ellie Azizi<br>\n",
    "Course Code:\t    CVI620<br>\n",
    "Course Section letter:\tNAA<br>\n",
    "Date of Final Assessment:\t4/15/2025<br>\n",
    "\n",
    "Duration of Final Assessment\t 1.5 hours <br>\n",
    "Weight of Final Assessment\t25%\n",
    "<br>\n",
    "<br>\n",
    "\n",
    "##### Mark breakdown \n",
    "- PART 1: Conceptual                             15 marks\n",
    "- PART 2: Edge Detection                      10 marks \n",
    "<br>\n",
    "<br>\n",
    "\n",
    "\n",
    "##### Integrity Question / Statement\n",
    "SENECA’S ACADEMIC HONESTY POLICY\n",
    "As a Seneca student, you must conduct yourself in an honest and trustworthy manner in all aspects of your academic career. A dishonest attempt to obtain an academic advantage is considered an offense and will not be tolerated by the College.\n",
    "Add this declaration to your submission file:\n",
    "I, ------------ (mention your name), declare that the attached assignment is our own work in accordance with the Seneca Academic Honesty Policy. I do not copy any part of this assignment, manually or electronically, from any other source including web sites, unless specified as references. I do not distribute my work to other students.\n"
   ]
  },
  {
   "cell_type": "markdown",
   "id": "1",
   "metadata": {},
   "source": [
    "# Question\n",
    "\n",
    "1.\tUse the dataset attached to predict whether the clients will subscribe a term deposit in future based on their condition.\n",
    "Section/Part 1\t(10 marks)<br>\n",
    "Bank client data (input variable) <br>\n",
    "• Age (numeric) <br>\n",
    "• Job : type of job <br>\n",
    "• Marital : marital status <br>\n",
    "• Education <br>\n",
    "• Default: has credit in default? (“yes”, “no”) <br>\n",
    "• Balance: average yearly balance, in euros <br>\n",
    "• Housing: has housing loan? (“yes”, “no”) <br>\n",
    "• Loan: has personal loan? (“yes”, “no”) <br>\n",
    "• Contact: contact communication type <br>\n",
    "• Day: last contact day of the month <br>\n",
    "• Month: last contact month of year <br>\n",
    "• Duration: last contact duration, in seconds (numeric) <br>\n",
    "• Campaign: number of contacts performed during this campaign and for this client <br>\n",
    "• Pdays : number of days that passed by after the client was last contacted from a previous campaign (-1 means - client \n",
    "was not previously contacted) <br>\n",
    "• Previous: number of contacts performed before this campaign and for this client <br>\n",
    "• Poutcome : outcome of the previous marketing campaign\n",
    "Dependent Variable (desired target) <br>\n",
    "• y: has the client subscribed a term deposit? (“yes”, “no”) <br>\n",
    "\n",
    "<br>\n",
    "<br>\n",
    "\n",
    "Do everything required and report your analysis and metrics. Make sure to apply all you know (e.g. normalization, overfitting prevention, statistical analysis of the dataset, etc.)\n"
   ]
  },
  {
   "cell_type": "code",
   "execution_count": null,
   "id": "2",
   "metadata": {},
   "outputs": [],
   "source": []
  }
 ],
 "metadata": {
  "language_info": {
   "name": "python"
  }
 },
 "nbformat": 4,
 "nbformat_minor": 5
}
