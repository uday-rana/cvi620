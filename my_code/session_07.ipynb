{
 "cells": [
  {
   "cell_type": "code",
   "execution_count": null,
   "metadata": {},
   "outputs": [],
   "source": [
    "import cv2\n",
    "import numpy as np"
   ]
  },
  {
   "cell_type": "code",
   "execution_count": null,
   "metadata": {},
   "outputs": [],
   "source": [
    "image = cv2.imread('../images/cute-kitten.jpeg')\n",
    "\n",
    "if image is None:\n",
    "    print('ERROR: Image not available')"
   ]
  },
  {
   "cell_type": "code",
   "execution_count": null,
   "metadata": {},
   "outputs": [],
   "source": [
    "# Gaussian Noise\n",
    "# image + noise\n",
    "noise = np.random.normal(0, 25, image.shape).astype('float32')\n",
    "\n",
    "noisy_image = cv2.add(image.astype('float32'), noise)\n",
    "noisy_image = np.clip(noisy_image, 0, 255).astype('uint8')\n",
    "\n",
    "cv2.imshow('frame', noisy_image)\n",
    "cv2.waitKey(0)"
   ]
  },
  {
   "cell_type": "code",
   "execution_count": null,
   "metadata": {},
   "outputs": [],
   "source": [
    "# Salt and Pepper Noise\n",
    "def add_noise(img: np.ndarray) -> np.ndarray:\n",
    "    copy = img.copy()\n",
    "    row, col, _ = copy.shape\n",
    "    number_of_pixels_to_add_noise_to = np.random.randint(300, 20000)\n",
    "    for i in range(number_of_pixels_to_add_noise_to):\n",
    "        y = np.random.randint(0, col)\n",
    "        x = np.random.randint(0, row)\n",
    "        copy[x, y] = 0\n",
    "\n",
    "    number_of_pixels_to_add_noise_to = np.random.randint(300, 20000)\n",
    "    for i in range(number_of_pixels_to_add_noise_to):\n",
    "        y = np.random.randint(0, col)\n",
    "        x = np.random.randint(0, row)\n",
    "        copy[x,y] = 255\n",
    "\n",
    "    return copy\n",
    "\n",
    "salt_and_peppered_image = add_noise(image)\n",
    "cv2.imshow('frame', salt_and_peppered_image)\n",
    "cv2.waitKey(0)"
   ]
  }
 ],
 "metadata": {
  "kernelspec": {
   "display_name": "venv",
   "language": "python",
   "name": "python3"
  },
  "language_info": {
   "codemirror_mode": {
    "name": "ipython",
    "version": 3
   },
   "file_extension": ".py",
   "mimetype": "text/x-python",
   "name": "python",
   "nbconvert_exporter": "python",
   "pygments_lexer": "ipython3",
   "version": "3.13.1"
  }
 },
 "nbformat": 4,
 "nbformat_minor": 2
}
