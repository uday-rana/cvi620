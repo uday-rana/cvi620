{
 "cells": [
  {
   "cell_type": "code",
   "execution_count": 2,
   "metadata": {},
   "outputs": [],
   "source": [
    "import cv2\n",
    "import numpy as np"
   ]
  },
  {
   "cell_type": "code",
   "execution_count": 2,
   "metadata": {},
   "outputs": [
    {
     "name": "stdout",
     "output_type": "stream",
     "text": [
      "image shape: (300, 300, 3)\n",
      "max: 255\n"
     ]
    }
   ],
   "source": [
    "image = cv2.imread(\"..Images//cute-kitten.jfif\")\n",
    "print(f\"image shape: {image.shape}\")\n",
    "img_red = image[:, :, 2]\n",
    "max = 0\n",
    "\n",
    "for i in range(img_red.shape[0]):\n",
    "    for j in range(img_red.shape[1]):\n",
    "        if img_red[i][j] > max:\n",
    "            max = img_red[i][j]\n",
    "\n",
    "print(f\"max: {max}\")"
   ]
  }
 ],
 "metadata": {
  "kernelspec": {
   "display_name": "venv",
   "language": "python",
   "name": "python3"
  },
  "language_info": {
   "codemirror_mode": {
    "name": "ipython",
    "version": 3
   },
   "file_extension": ".py",
   "mimetype": "text/x-python",
   "name": "python",
   "nbconvert_exporter": "python",
   "pygments_lexer": "ipython3",
   "version": "3.13.1"
  }
 },
 "nbformat": 4,
 "nbformat_minor": 2
}
